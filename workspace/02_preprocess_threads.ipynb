{
 "cells": [
  {
   "cell_type": "markdown",
   "metadata": {},
   "source": [
    "# preprocess_threads\n",
    "\n",
    "ダウンロードしたスレッドタイトルを正規化して１ファイルに纏める\n",
    "\n",
    "|パラメータ名|内容|\n",
    "|:--|:--|\n",
    "| `THREAD_FILTER_TH_MIN_RESPONSE` | 学習に利用するスレッドタイトルの最小レス数 |\n",
    "| `THREAD_FILTER_NG_PHRASES` | スレッドタイトルのNG文字列、この文字列が含まれるスレッドタイトルは学習に利用しない。 |\n",
    "| `IGNORE_PHRASES` | スレッドタイトルから除外する文字列 |\n",
    "| `SPECIAL_TOKEN_MAP` | 前処理で変換するの特殊文字 |\n",
    "| `SPECIAL_TOKEN_REGEX_MAP` | 前処理で変換するの特殊文字（正規表現） |\n",
    "\n",
    "## 入力ファイル\n",
    "\n",
    "* `data/*.tsv`\n",
    "\n",
    "## 出力ファイル\n",
    "\n",
    "* `normalized_titles.txt`: 正規化済のスレッドタイトル、１行に1スレッドタイトル\n",
    "* `normalizer.pickle`: 正規化を行うオブジェクト"
   ]
  },
  {
   "cell_type": "code",
   "execution_count": 1,
   "metadata": {},
   "outputs": [],
   "source": [
    "import glob\n",
    "import pickle\n",
    "import re"
   ]
  },
  {
   "cell_type": "code",
   "execution_count": 2,
   "metadata": {},
   "outputs": [],
   "source": [
    "THREAD_FILTER_TH_MIN_RESPONSE = 5\n",
    "# アルファベットはlowercaseにする\n",
    "THREAD_FILTER_NG_PHRASES = [\n",
    "    \"id:\", \"http\"\n",
    "]\n",
    "IGNORE_PHRASES = [\n",
    "    \"[無断転載禁止]©2ch.net\",\n",
    "    \"\\\\n\", \"\\n\", \"・\", \"、\", \"。\", \",\", \".\",\n",
    "    \"★\", \"☆\", \"○\", \"●\", \"◎\" \"◯ \", \"■\", \"□\"\n",
    "]\n",
    "SPECIAL_TOKEN_MAP = {\n",
    "    \"彡(゚)(゚)\": \"<nanjmin>\",\n",
    "    \"彡(^)(^)\": \"<nikojmin>\",\n",
    "    \"彡(;)(;)\": \"<nakijmin>\",\n",
    "    \"（ヽ´ん`）\": \"<kenmoukun>\",\n",
    "    \"(ヽ ́ん`)\": \"<kenmoukun>\",\n",
    "    \"(ヽ’ん`)\": \"<kenmoukun>\",\n",
    "    \"(ヽ'ん`)\": \"<kenmoukun>\",\n",
    "    \"( ヽ ́ん`)\": \"<kenmoukun>\",\n",
    "    \"(´・ω・`)\": \"<genjumin>\",\n",
    "    \"(´・ω・｀)\": \"<genjumin>\",\n",
    "    \"( ́;ω;`)\": \"<nakigenjumin>\",\n",
    "    \"(*^◯^*)\": \"<pojihamekun>\",\n",
    "    \"(*^^*)\": \"<pojihamekun>\",\n",
    "    \"( ́ω`)\": \"<kao1>\",\n",
    "}\n",
    "SPECIAL_TOKEN_REGEX_MAP = {\n",
    "    re.compile(\"ww+\"): \"<kusa>\"\n",
    "}"
   ]
  },
  {
   "cell_type": "code",
   "execution_count": 3,
   "metadata": {},
   "outputs": [],
   "source": [
    "# ダウンロードしたファイルからスレッドタイトルリストを作成する\n",
    "titles = []\n",
    "for fpath in glob.glob(\"data/*.tsv\"):\n",
    "    with open(fpath) as f:\n",
    "        for line in f:\n",
    "            text = line.rstrip()\n",
    "            elem = re.split(r'\\t+', text)\n",
    "            # パースに失敗したものは除外する\n",
    "            if len(elem) != 2:\n",
    "                continue\n",
    "            thread_title, num_response = elem\n",
    "            # NGフレーズが含まれる場合除外\n",
    "            for phrase in THREAD_FILTER_NG_PHRASES:\n",
    "                if phrase in thread_title:\n",
    "                    continue\n",
    "            # レス数が少ないものを除外\n",
    "            if int(num_response) < THREAD_FILTER_TH_MIN_RESPONSE:\n",
    "                continue\n",
    "            titles.append(thread_title)"
   ]
  },
  {
   "cell_type": "code",
   "execution_count": 4,
   "metadata": {},
   "outputs": [
    {
     "name": "stdout",
     "output_type": "stream",
     "text": [
      "スレッドタイトル数: 2016289\n"
     ]
    }
   ],
   "source": [
    "print(f\"スレッドタイトル数: {len(titles)}\")"
   ]
  },
  {
   "cell_type": "code",
   "execution_count": null,
   "metadata": {},
   "outputs": [],
   "source": [
    "# スレッドタイトル例\n",
    "print(titles[:3])"
   ]
  },
  {
   "cell_type": "code",
   "execution_count": 6,
   "metadata": {},
   "outputs": [],
   "source": [
    "from scripts.normalize import ThreadTitleNormalizer\n",
    "normalizer = ThreadTitleNormalizer(IGNORE_PHRASES, SPECIAL_TOKEN_MAP, SPECIAL_TOKEN_REGEX_MAP)"
   ]
  },
  {
   "cell_type": "code",
   "execution_count": 7,
   "metadata": {},
   "outputs": [
    {
     "data": {
      "text/plain": [
       "'<nanjmin>「円周率は3<kusa>」ワイ「🤔」'"
      ]
     },
     "execution_count": 7,
     "metadata": {},
     "output_type": "execute_result"
    }
   ],
   "source": [
    "text = \"彡(゚)(゚)「円周率は3ｗｗｗ」ワイ「🤔」 [無断転載禁止]©2ch.net\"\n",
    "normalizer.normalize(text)"
   ]
  },
  {
   "cell_type": "code",
   "execution_count": 9,
   "metadata": {},
   "outputs": [],
   "source": [
    "# 正規化済みのスレッドタイトルをテキストファイルに保存する\n",
    "with open(\"normalized_titles.txt\", \"w\") as f:\n",
    "    for title in titles:\n",
    "        normalized = normalizer.normalize(title)\n",
    "        if len(normalized) > 0:\n",
    "            f.write(f\"{normalized}\\n\")"
   ]
  },
  {
   "cell_type": "code",
   "execution_count": 10,
   "metadata": {},
   "outputs": [],
   "source": [
    "# NormalizerをPickleで保存する\n",
    "with open(\"normalizer.pickle\", \"wb\") as f:\n",
    "    pickle.dump(normalizer, f, pickle.HIGHEST_PROTOCOL)"
   ]
  },
  {
   "cell_type": "code",
   "execution_count": null,
   "metadata": {},
   "outputs": [],
   "source": []
  }
 ],
 "metadata": {
  "kernelspec": {
   "display_name": "Python 3",
   "language": "python",
   "name": "python3"
  },
  "language_info": {
   "codemirror_mode": {
    "name": "ipython",
    "version": 3
   },
   "file_extension": ".py",
   "mimetype": "text/x-python",
   "name": "python",
   "nbconvert_exporter": "python",
   "pygments_lexer": "ipython3",
   "version": "3.7.9"
  }
 },
 "nbformat": 4,
 "nbformat_minor": 4
}
