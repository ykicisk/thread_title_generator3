{
 "cells": [
  {
   "cell_type": "markdown",
   "metadata": {},
   "source": [
    "# train_sentencepiece\n",
    "\n",
    "正規化したスレッドタイトルからsentencepieceを学習する。\n",
    "\n",
    "|パラメータ名|内容|\n",
    "|:--|:--|\n",
    "| `MAX_VOCAB` | ボキャブラリサイズ |\n",
    "\n",
    "## 入力ファイル\n",
    "\n",
    "* `normalized_titles.txt`\n",
    "\n",
    "## 出力ファイル\n",
    "\n",
    "* `sentencepiece.model`: sentencepieceのモデルファイル\n",
    "* `sentencepiece.vocab`: sentencepieceの語彙ファイル"
   ]
  },
  {
   "cell_type": "code",
   "execution_count": 1,
   "metadata": {},
   "outputs": [],
   "source": [
    "import pickle\n",
    "import sentencepiece as spm"
   ]
  },
  {
   "cell_type": "code",
   "execution_count": 2,
   "metadata": {},
   "outputs": [],
   "source": [
    "MAX_VOCAB=20000"
   ]
  },
  {
   "cell_type": "code",
   "execution_count": 3,
   "metadata": {},
   "outputs": [],
   "source": [
    "# 入力ファイルの正規化に用いたnormalizerをロード\n",
    "with open(\"normalizer.pickle\", \"rb\") as f:\n",
    "    normalizer = pickle.load(f)"
   ]
  },
  {
   "cell_type": "code",
   "execution_count": 4,
   "metadata": {},
   "outputs": [
    {
     "data": {
      "text/plain": [
       "'<kenmoukun>,<nakigenjumin>,<kusa>,<pojihamekun>,<genjumin>,<kao1>,<nanjmin>,<nikojmin>,<nakijmin>'"
      ]
     },
     "execution_count": 4,
     "metadata": {},
     "output_type": "execute_result"
    }
   ],
   "source": [
    "# normalizerのspecial_tokenをuser_defined_symbolsとして学習する\n",
    "special_token_set = set(list(normalizer.special_token_map.values()) + list(normalizer.special_token_regex_map.values()))\n",
    "user_defined_symbols = ','.join(list(special_token_set))\n",
    "user_defined_symbols"
   ]
  },
  {
   "cell_type": "code",
   "execution_count": 5,
   "metadata": {},
   "outputs": [],
   "source": [
    "options = [\n",
    "    \"--input=normalized_titles.txt\",\n",
    "    \"--model_prefix=sentencepiece\",\n",
    "    f\"--vocab_size={MAX_VOCAB}\",\n",
    "    f\"--user_defined_symbols={user_defined_symbols}\",\n",
    "    \"--pad_id=0\",\n",
    "    \"--unk_id=3\",\n",
    "    \"--bos_id=1\",\n",
    "    \"--eos_id=2\",\n",
    "    \"--add_dummy_prefix=false\"\n",
    "]\n",
    "spm.SentencePieceTrainer.train(\" \".join(options))"
   ]
  },
  {
   "cell_type": "code",
   "execution_count": 6,
   "metadata": {},
   "outputs": [
    {
     "data": {
      "text/plain": [
       "True"
      ]
     },
     "execution_count": 6,
     "metadata": {},
     "output_type": "execute_result"
    }
   ],
   "source": [
    "# 学習したsentencepieceをロード\n",
    "sp = spm.SentencePieceProcessor()\n",
    "sp.load('sentencepiece.model')"
   ]
  },
  {
   "cell_type": "code",
   "execution_count": 7,
   "metadata": {},
   "outputs": [
    {
     "name": "stdout",
     "output_type": "stream",
     "text": [
      "['<nanjmin>', '「', '円周率', 'は', '3', '<kusa>', '」', 'ワイ', '「', '🤔', '」']\n",
      "[10, 14, 18592, 26, 42, 6, 17, 23, 14, 2828, 17]\n"
     ]
    }
   ],
   "source": [
    "# 動作確認\n",
    "text = \"彡(゚)(゚)「円周率は3ｗｗｗ」ワイ「🤔」 [無断転載禁止]©2ch.net\"\n",
    "normalized = normalizer.normalize(text)\n",
    "print(sp.encode_as_pieces(normalized))\n",
    "print(sp.encode_as_ids(normalized))"
   ]
  },
  {
   "cell_type": "code",
   "execution_count": null,
   "metadata": {},
   "outputs": [],
   "source": []
  }
 ],
 "metadata": {
  "kernelspec": {
   "display_name": "Python 3",
   "language": "python",
   "name": "python3"
  },
  "language_info": {
   "codemirror_mode": {
    "name": "ipython",
    "version": 3
   },
   "file_extension": ".py",
   "mimetype": "text/x-python",
   "name": "python",
   "nbconvert_exporter": "python",
   "pygments_lexer": "ipython3",
   "version": "3.7.9"
  }
 },
 "nbformat": 4,
 "nbformat_minor": 4
}
