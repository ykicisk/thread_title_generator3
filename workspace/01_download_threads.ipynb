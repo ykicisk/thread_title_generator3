{
 "cells": [
  {
   "cell_type": "markdown",
   "metadata": {},
   "source": [
    "# download_threads\n",
    "\n",
    "なんJのスレッドタイトルを[KAKO LOGページ](https://hawk.5ch.net/livejupiter/kako/kako0000.html)からダウンロードする。\n",
    "\n",
    "ダウンロードしたデータは `data` に保存される。\n",
    "\n",
    "|パラメータ名|内容|\n",
    "|:--|:--|\n",
    "| `start` | ダウンロードするKAKO LOGの開始ページ |\n",
    "| `end` | ダウンロードするKAKO LOGの終了ページ |\n",
    "\n",
    "## 入力ファイル\n",
    "\n",
    "なし\n",
    "\n",
    "## 出力ファイル\n",
    "\n",
    "* `data/*.tsv`: ダウンロードしたスレッドタイトルとそのレス数をタブ区切りで保存したファイル"
   ]
  },
  {
   "cell_type": "code",
   "execution_count": null,
   "metadata": {},
   "outputs": [],
   "source": [
    "start = 0\n",
    "end = 4428"
   ]
  },
  {
   "cell_type": "code",
   "execution_count": null,
   "metadata": {},
   "outputs": [],
   "source": [
    "import os\n",
    "import requests\n",
    "import time\n",
    "from urllib3.util.retry import Retry\n",
    "from requests.adapters import HTTPAdapter\n",
    "from lxml import html"
   ]
  },
  {
   "cell_type": "code",
   "execution_count": null,
   "metadata": {},
   "outputs": [],
   "source": [
    "def download_threads(dst_dir, start=0, end=9999):\n",
    "    url_fmt = \"https://hawk.5ch.net/livejupiter/kako/kako{0:04d}.html\"\n",
    "\n",
    "    if not os.path.exists(dst_dir):\n",
    "        os.mkdir(dst_dir)\n",
    "\n",
    "    session = requests.Session()\n",
    "    adapter = HTTPAdapter(max_retries=Retry(total=5, backoff_factor=1.0))\n",
    "    session.mount('http://', adapter)\n",
    "    session.mount('https://', adapter)\n",
    "\n",
    "    for idx in range(start, end+1):\n",
    "        url = url_fmt.format(idx)\n",
    "        print(\"open:\", url)\n",
    "        \n",
    "        res = session.get(url, timeout=5)\n",
    "        res.encoding = res.apparent_encoding\n",
    "        tree = html.fromstring(res.text)\n",
    "\n",
    "        titles_odd = tree.xpath('//div[@class=\"main\"]/p[@class=\"main_odd\"]/span[@class=\"title\"]/a')\n",
    "        titles_even = tree.xpath('//div[@class=\"main\"]/p[@class=\"main_even\"]/span[@class=\"title\"]/a')\n",
    "        lines_odd = tree.xpath('//div[@class=\"main\"]/p[@class=\"main_odd\"]/span[@class=\"lines\"]')\n",
    "        lines_even = tree.xpath('//div[@class=\"main\"]/p[@class=\"main_even\"]/span[@class=\"lines\"]')\n",
    "\n",
    "        dst_path = os.path.join(dst_dir, \"{0:04d}.tsv\".format(idx))\n",
    "\n",
    "        print(\"save as:\", dst_path)\n",
    "        with open(dst_path, \"w\") as f:\n",
    "            for t, l in zip(titles_odd, lines_odd):\n",
    "                f.write(\"{0}\\t{1}\\n\".format(t.text, l.text))\n",
    "            for t, l in zip(titles_even, lines_even):\n",
    "                f.write(\"{0}\\t{1}\\n\".format(t.text, l.text))\n",
    "                \n",
    "        time.sleep(5)"
   ]
  },
  {
   "cell_type": "code",
   "execution_count": null,
   "metadata": {},
   "outputs": [],
   "source": [
    "download_threads(\"data\", start=start, end=end)"
   ]
  },
  {
   "cell_type": "code",
   "execution_count": null,
   "metadata": {},
   "outputs": [],
   "source": []
  },
  {
   "cell_type": "code",
   "execution_count": null,
   "metadata": {},
   "outputs": [],
   "source": []
  }
 ],
 "metadata": {
  "kernelspec": {
   "display_name": "Python 3",
   "language": "python",
   "name": "python3"
  },
  "language_info": {
   "codemirror_mode": {
    "name": "ipython",
    "version": 3
   },
   "file_extension": ".py",
   "mimetype": "text/x-python",
   "name": "python",
   "nbconvert_exporter": "python",
   "pygments_lexer": "ipython3",
   "version": "3.7.9"
  }
 },
 "nbformat": 4,
 "nbformat_minor": 4
}
