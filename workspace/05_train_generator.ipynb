{
 "cells": [
  {
   "cell_type": "markdown",
   "metadata": {},
   "source": [
    "# train generator\n",
    "\n",
    "スレタイ生成を行うGeneratorを学習する。\n",
    "\n",
    "GeneratorはTransformerのエンコーダーをMasked Multi-Head Attentionに変更したネットワーク構成される。\n",
    "詳細は[scripts/model.py](scripts/model.py)を参照\n",
    "\n",
    "\n",
    "|パラメータ名|内容|\n",
    "|:--|:--|\n",
    "| `num_layers` | transformerのパラメータ、[tensorflowのチュートリアル参照](https://www.tensorflow.org/tutorials/text/transformer) |\n",
    "| `d_model` | transformerのパラメータ、[tensorflowのチュートリアル参照](https://www.tensorflow.org/tutorials/text/transformer) |\n",
    "| `dff` | transformerのパラメータ、[tensorflowのチュートリアル参照](https://www.tensorflow.org/tutorials/text/transformer) |\n",
    "| `num_heads` | transformerのパラメータ、[tensorflowのチュートリアル参照](https://www.tensorflow.org/tutorials/text/transformer) |\n",
    "| `TEMPERATURE` | 生成するスレッドタイトルの多様性と尤度のトレードオフパラメータ（0.0以上）、0.0のとき最も確信度の高いスレッドのみを生成する ※学習には影響しない|\n",
    "| `EPOCHS` | 学習のエポック数 |\n",
    "| `BATCH_SIZE` | 学習のバッチサイズ |\n",
    "\n",
    "## 入力ファイル\n",
    "\n",
    "* `dataset.pickle`\n",
    "\n",
    "## 出力ファイル\n",
    "\n",
    "* `model/generator/weights_epoch*.h5`"
   ]
  },
  {
   "cell_type": "code",
   "execution_count": 1,
   "metadata": {},
   "outputs": [],
   "source": [
    "import os\n",
    "import time\n",
    "import pickle\n",
    "import numpy as np\n",
    "import tensorflow as tf"
   ]
  },
  {
   "cell_type": "code",
   "execution_count": 2,
   "metadata": {},
   "outputs": [],
   "source": [
    "# モデルパラメータ\n",
    "num_layers = 4\n",
    "d_model = 128\n",
    "dff = 512\n",
    "num_heads = 8\n",
    "\n",
    "# 生成パラメータ\n",
    "TEMPERATURE = 0.85\n",
    "\n",
    "# 学習パラメータ\n",
    "EPOCHS = 40\n",
    "BATCH_SIZE = 128"
   ]
  },
  {
   "cell_type": "code",
   "execution_count": 3,
   "metadata": {},
   "outputs": [
    {
     "data": {
      "text/plain": [
       "True"
      ]
     },
     "execution_count": 3,
     "metadata": {},
     "output_type": "execute_result"
    }
   ],
   "source": [
    "import sentencepiece as spm\n",
    "sp = spm.SentencePieceProcessor()\n",
    "sp.load('sentencepiece.model')"
   ]
  },
  {
   "cell_type": "code",
   "execution_count": 4,
   "metadata": {},
   "outputs": [],
   "source": [
    "with open(\"real_dataset.pickle\", \"rb\") as f:\n",
    "    ids = pickle.load(f)\n",
    "input_tensor = tf.keras.preprocessing.sequence.pad_sequences(ids, padding='post')"
   ]
  },
  {
   "cell_type": "code",
   "execution_count": 5,
   "metadata": {},
   "outputs": [],
   "source": [
    "# 検証用: 学習データを減らす\n",
    "# input_tensor = input_tensor[:10000]"
   ]
  },
  {
   "cell_type": "code",
   "execution_count": 6,
   "metadata": {},
   "outputs": [],
   "source": [
    "# 入力データのパラメータ\n",
    "vocab_size = sp.get_piece_size()\n",
    "seq_len = input_tensor.shape[1]"
   ]
  },
  {
   "cell_type": "code",
   "execution_count": 7,
   "metadata": {},
   "outputs": [],
   "source": [
    "from scripts.model import Generator"
   ]
  },
  {
   "cell_type": "code",
   "execution_count": 8,
   "metadata": {},
   "outputs": [],
   "source": [
    "generator = Generator(num_layers, d_model, num_heads, dff, vocab_size, max_pos_encoding=seq_len)"
   ]
  },
  {
   "cell_type": "code",
   "execution_count": null,
   "metadata": {},
   "outputs": [],
   "source": [
    "# generate with initial model\n",
    "generation_ids = generator.sample(num_sample=10, temperature=TEMPERATURE, padding=True)\n",
    "\n",
    "for ids in generation_ids:\n",
    "    ids_int = list(map(lambda x: int(x), ids))\n",
    "    print(sp.decode_ids(ids_int))"
   ]
  },
  {
   "cell_type": "code",
   "execution_count": 10,
   "metadata": {},
   "outputs": [
    {
     "name": "stdout",
     "output_type": "stream",
     "text": [
      "1536857 170762\n"
     ]
    }
   ],
   "source": [
    "from sklearn.model_selection import train_test_split\n",
    "input_tensor_train, input_tensor_valid = train_test_split(input_tensor, test_size=0.1)\n",
    "print(len(input_tensor_train), len(input_tensor_valid))"
   ]
  },
  {
   "cell_type": "code",
   "execution_count": 11,
   "metadata": {},
   "outputs": [],
   "source": [
    "steps_per_epoch_train = len(input_tensor_train)//BATCH_SIZE\n",
    "steps_per_epoch_valid = len(input_tensor_valid)//BATCH_SIZE"
   ]
  },
  {
   "cell_type": "code",
   "execution_count": 12,
   "metadata": {},
   "outputs": [],
   "source": [
    "BUFFER_SIZE = len(input_tensor_train)\n",
    "dataset_train = tf.data.Dataset.from_tensor_slices(input_tensor_train).shuffle(BUFFER_SIZE)\n",
    "BUFFER_SIZE = len(input_tensor_valid)\n",
    "dataset_valid = tf.data.Dataset.from_tensor_slices(input_tensor_valid).shuffle(BUFFER_SIZE)"
   ]
  },
  {
   "cell_type": "code",
   "execution_count": 13,
   "metadata": {},
   "outputs": [],
   "source": [
    "optimizer = tf.keras.optimizers.Adam()\n",
    "\n",
    "sparse_categorical_cross_entropy = tf.keras.losses.SparseCategoricalCrossentropy(from_logits=True, reduction='none')\n",
    "\n",
    "\n",
    "def generator_loss(real, pred, mask):\n",
    "    # best generation loss\n",
    "    loss = sparse_categorical_cross_entropy(real, pred)\n",
    "    loss *= tf.cast(mask, dtype=loss.dtype)\n",
    "    \n",
    "    return tf.reduce_mean(loss)"
   ]
  },
  {
   "cell_type": "code",
   "execution_count": 14,
   "metadata": {},
   "outputs": [],
   "source": [
    "@tf.function\n",
    "def train_step(inp):    # x: (BATCH_SIZE, seq_len)\n",
    "    target_input = inp[:, :-1]\n",
    "    target_real = inp[:, 1:]\n",
    "    \n",
    "    with tf.GradientTape() as tape:\n",
    "        gen_output = generator(target_input, training=True)\n",
    "        \n",
    "        mask = tf.math.logical_not(tf.math.equal(target_real, 0))\n",
    "        \n",
    "        gen_loss = generator_loss(target_real, gen_output, mask)\n",
    "        \n",
    "    gradients = tape.gradient(gen_loss, generator.trainable_variables)\n",
    "    optimizer.apply_gradients(zip(gradients, generator.trainable_variables))\n",
    "\n",
    "    return gen_loss"
   ]
  },
  {
   "cell_type": "code",
   "execution_count": 15,
   "metadata": {},
   "outputs": [],
   "source": [
    "@tf.function\n",
    "def valid_step(inp):    # x: (BATCH_SIZE, seq_len)    \n",
    "    target_input = inp[:, :-1]\n",
    "    target_real = inp[:, 1:]\n",
    "    \n",
    "    gen_output = generator(target_input, training=True)\n",
    "\n",
    "    mask = tf.math.logical_not(tf.math.equal(target_real, 0))\n",
    "\n",
    "    gen_loss = generator_loss(target_real, gen_output, mask)\n",
    "\n",
    "    return gen_loss"
   ]
  },
  {
   "cell_type": "code",
   "execution_count": 16,
   "metadata": {},
   "outputs": [],
   "source": [
    "dataset_train = dataset_train.batch(BATCH_SIZE, drop_remainder=True)\n",
    "dataset_valid = dataset_valid.batch(BATCH_SIZE, drop_remainder=True)"
   ]
  },
  {
   "cell_type": "code",
   "execution_count": 17,
   "metadata": {},
   "outputs": [],
   "source": [
    "model_dir = \"model/generator\"\n",
    "if not os.path.exists(model_dir):\n",
    "    os.mkdir(model_dir)"
   ]
  },
  {
   "cell_type": "code",
   "execution_count": null,
   "metadata": {},
   "outputs": [],
   "source": [
    "for epoch in range(EPOCHS):\n",
    "    start = time.time()\n",
    "\n",
    "    # TRAIN\n",
    "    total_loss = 0\n",
    "    for (batch, inp) in enumerate(dataset_train.take(steps_per_epoch_train)):\n",
    "        # batch_start = time.time()\n",
    "         \n",
    "        batch_loss = train_step(inp)\n",
    "        total_loss += batch_loss\n",
    "        # print('Time taken for 1 batch {} sec'.format(time.time() - batch_start))\n",
    "\n",
    "        if batch % 500 == 0:\n",
    "            print(f'Epoch {epoch+1} Batch {batch} Loss {batch_loss.numpy():.4f}')\n",
    "            \n",
    "    generator.save_weights(f\"{model_dir}/weights_epoch{epoch+1}.h5\")\n",
    "\n",
    "    print(f'Train Epoch {epoch+1} Gen Loss {total_loss/steps_per_epoch_train:.4f}')\n",
    "    \n",
    "    # VALIDATION\n",
    "    total_valid_loss = 0\n",
    "    for (batch, inp) in enumerate(dataset_valid.take(steps_per_epoch_valid)):\n",
    "        batch_loss = valid_step(inp)\n",
    "        total_valid_loss += batch_loss\n",
    "        \n",
    "    print(f'Validation Loss {total_valid_loss/steps_per_epoch_valid:.4f}')\n",
    "\n",
    "    # GENERATION\n",
    "    generation_ids = generator.sample(num_sample=10, temperature=TEMPERATURE, padding=True)\n",
    "    for ids in generation_ids:\n",
    "        ids_int = list(map(lambda x: int(x), ids))\n",
    "        print(sp.decode_ids(ids_int))\n",
    "\n",
    "    print('Time taken for 1 epoch {} sec\\n'.format(time.time() - start))"
   ]
  },
  {
   "cell_type": "code",
   "execution_count": null,
   "metadata": {},
   "outputs": [],
   "source": []
  }
 ],
 "metadata": {
  "kernelspec": {
   "display_name": "Python 3",
   "language": "python",
   "name": "python3"
  },
  "language_info": {
   "codemirror_mode": {
    "name": "ipython",
    "version": 3
   },
   "file_extension": ".py",
   "mimetype": "text/x-python",
   "name": "python",
   "nbconvert_exporter": "python",
   "pygments_lexer": "ipython3",
   "version": "3.7.9"
  }
 },
 "nbformat": 4,
 "nbformat_minor": 4
}
