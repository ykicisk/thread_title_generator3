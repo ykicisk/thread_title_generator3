{
 "cells": [
  {
   "cell_type": "markdown",
   "metadata": {},
   "source": [
    "# make_dataset\n",
    "\n",
    "sentencepieceでtokenizeしたID列をデータセットとしてpickleで保存する\n",
    "\n",
    "文頭・文末を表す`bos`, `eos`トークンも追加する\n",
    "\n",
    "|パラメータ名|内容|\n",
    "|:--|:--|\n",
    "| `THREAD_FILTER_TH_MIN_TOKEN` | トークン数がこのパラメータより小さいスレッドタイトルはデータセットに含めない |\n",
    "| `THREAD_FILTER_TH_MAX_TOKEN` | トークン数がこのパラメータより大きいスレッドタイトルはデータセットに含めない |\n",
    "\n",
    "## 入力ファイル\n",
    "\n",
    "* `normalized_titles.txt`\n",
    "\n",
    "## 出力ファイル\n",
    "\n",
    "* `real_dataset.pickle`: 学習に利用するToken ID列"
   ]
  },
  {
   "cell_type": "code",
   "execution_count": 1,
   "metadata": {},
   "outputs": [],
   "source": [
    "THREAD_FILTER_TH_MIN_TOKEN = 5\n",
    "THREAD_FILTER_TH_MAX_TOKEN = 24"
   ]
  },
  {
   "cell_type": "code",
   "execution_count": 2,
   "metadata": {},
   "outputs": [],
   "source": [
    "with open(\"normalized_titles.txt\") as f:\n",
    "    normalized_titles = [line.rstrip() for line in f]"
   ]
  },
  {
   "cell_type": "code",
   "execution_count": 3,
   "metadata": {},
   "outputs": [
    {
     "data": {
      "text/plain": [
       "True"
      ]
     },
     "execution_count": 3,
     "metadata": {},
     "output_type": "execute_result"
    }
   ],
   "source": [
    "import sentencepiece as spm\n",
    "sp = spm.SentencePieceProcessor()\n",
    "sp.load('sentencepiece.model')"
   ]
  },
  {
   "cell_type": "code",
   "execution_count": 4,
   "metadata": {},
   "outputs": [],
   "source": [
    "ids_list = []\n",
    "for normalized in normalized_titles:\n",
    "    ids = sp.encode_as_ids(normalized)\n",
    "    ids_list.append([1] + ids + [2])  # <bos> <eos> トークンの付与"
   ]
  },
  {
   "cell_type": "code",
   "execution_count": 5,
   "metadata": {},
   "outputs": [],
   "source": [
    "ids_tuple = [tuple(ids) for ids in ids_list]\n",
    "deduped_ids_list = [list(ids) for ids in set(ids_tuple)]  # 重複排除（Tokenレベルでの重複排除）\n",
    "deduped_ids_list = list(filter(lambda t: THREAD_FILTER_TH_MIN_TOKEN <= len(t) <= THREAD_FILTER_TH_MAX_TOKEN, deduped_ids_list))"
   ]
  },
  {
   "cell_type": "code",
   "execution_count": 6,
   "metadata": {},
   "outputs": [
    {
     "data": {
      "text/plain": [
       "[[1, 81, 14, 9045, 554, 2199, 10331, 3, 2199, 2319, 89, 1248, 17, 2],\n",
       " [1,\n",
       "  12477,\n",
       "  6526,\n",
       "  26,\n",
       "  199,\n",
       "  99,\n",
       "  79,\n",
       "  197,\n",
       "  132,\n",
       "  9860,\n",
       "  4409,\n",
       "  27,\n",
       "  46,\n",
       "  144,\n",
       "  6614,\n",
       "  2883,\n",
       "  860,\n",
       "  178,\n",
       "  2],\n",
       " [1,\n",
       "  135,\n",
       "  9980,\n",
       "  8137,\n",
       "  21,\n",
       "  8450,\n",
       "  422,\n",
       "  403,\n",
       "  22,\n",
       "  604,\n",
       "  13048,\n",
       "  118,\n",
       "  207,\n",
       "  2825,\n",
       "  769,\n",
       "  7737,\n",
       "  737,\n",
       "  2]]"
      ]
     },
     "execution_count": 6,
     "metadata": {},
     "output_type": "execute_result"
    }
   ],
   "source": [
    "deduped_ids_list[:3]"
   ]
  },
  {
   "cell_type": "code",
   "execution_count": null,
   "metadata": {},
   "outputs": [],
   "source": [
    "for ids in deduped_ids_list[:3]:\n",
    "    print(sp.decode_ids(ids))"
   ]
  },
  {
   "cell_type": "code",
   "execution_count": 9,
   "metadata": {},
   "outputs": [],
   "source": [
    "import pickle\n",
    "with open(\"real_dataset.pickle\", mode=\"wb\") as f:\n",
    "    pickle.dump(deduped_ids_list, f, protocol=pickle.HIGHEST_PROTOCOL)"
   ]
  },
  {
   "cell_type": "code",
   "execution_count": null,
   "metadata": {},
   "outputs": [],
   "source": []
  }
 ],
 "metadata": {
  "kernelspec": {
   "display_name": "Python 3",
   "language": "python",
   "name": "python3"
  },
  "language_info": {
   "codemirror_mode": {
    "name": "ipython",
    "version": 3
   },
   "file_extension": ".py",
   "mimetype": "text/x-python",
   "name": "python",
   "nbconvert_exporter": "python",
   "pygments_lexer": "ipython3",
   "version": "3.7.9"
  }
 },
 "nbformat": 4,
 "nbformat_minor": 4
}
